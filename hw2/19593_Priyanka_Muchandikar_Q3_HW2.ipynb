{
  "nbformat": 4,
  "nbformat_minor": 0,
  "metadata": {
    "colab": {
      "name": "19593_Priyanka_Muchandikar_Q3_HW2.ipynb",
      "provenance": [],
      "collapsed_sections": [],
      "authorship_tag": "ABX9TyNhMFiMZQ+y8xSwglEkgTjJ",
      "include_colab_link": true
    },
    "kernelspec": {
      "name": "python3",
      "display_name": "Python 3"
    },
    "language_info": {
      "name": "python"
    }
  },
  "cells": [
    {
      "cell_type": "markdown",
      "metadata": {
        "id": "view-in-github",
        "colab_type": "text"
      },
      "source": [
        "<a href=\"https://colab.research.google.com/github/pnkcompany/Artificial_Intelligence/blob/main/hw2/19593_Priyanka_Muchandikar_Q3_HW2.ipynb\" target=\"_parent\"><img src=\"https://colab.research.google.com/assets/colab-badge.svg\" alt=\"Open In Colab\"/></a>"
      ]
    },
    {
      "cell_type": "code",
      "execution_count": 9,
      "metadata": {
        "id": "j5eRDigUTEof"
      },
      "outputs": [],
      "source": [
        "# Required imports\n",
        "import pandas as pd\n",
        "import  numpy as np\n",
        "import matplotlib.pyplot as plt"
      ]
    },
    {
      "cell_type": "code",
      "source": [
        "# Build up hypothesis function/loss function/cost function based on your selected   decision function\n",
        "\n",
        "# Define hypothesis function\n",
        "def hypothesis(x,theta):\n",
        "    h = np.dot(x,theta)\n",
        "    return sigmoid(h)\n",
        "\n",
        "# Define sigmoid function\n",
        "def sigmoid(z):\n",
        "    return 1/(1+np.exp(-z))\n",
        "\n",
        "\n",
        "# Define cost function\n",
        "def cost(x,y,theta):\n",
        "    m = x.shape[0]\n",
        "    total_cost = (-1/m)*(np.sum((y*(np.log(hypothesis(x,theta))))+((1-y)*(np.log(1-hypothesis(x,theta))))))\n",
        "    return total_cost\n",
        "\n",
        "# Define gradient descent function\n",
        "def gradient(x,y,theta):\n",
        "    m = x.shape[0]\n",
        "    return (1/m)*(np.dot(x.transpose(),(hypothesis(x,theta)-y)))\n",
        "\n",
        "def gradient_descent(x,y,learning_rate,max_itr):\n",
        "    m = x.shape[0]\n",
        "    n = x.shape[1]\n",
        "    \n",
        "    # Add a column of ones to x-matrix (corresponding to bias term)\n",
        "    ones = np.ones((m,1))\n",
        "    x = np.hstack((ones,x))\n",
        "    \n",
        "    # Initialize parameters to zero\n",
        "    theta = np.zeros((n+1,1))\n",
        "    cost_history = []\n",
        "    \n",
        "    for i in range(max_itr):\n",
        "        theta = theta - learning_rate*gradient(x,y,theta)\n",
        "        cost_history.append(cost(x,y,theta))\n",
        "        \n",
        "    return theta,cost_history\n"
      ],
      "metadata": {
        "id": "FS68V6sXTpw9"
      },
      "execution_count": 10,
      "outputs": []
    },
    {
      "cell_type": "code",
      "source": [
        "# Define function to plot decision boundary\n",
        "def plot_decision_boundary(x,y,theta):\n",
        "    x_0 = data[data.Y==0].iloc[:,0:2]\n",
        "    y_0 = data[data.Y==0].iloc[:,2]\n",
        "    x_1 = data[data.Y==1].iloc[:,0:2]\n",
        "    y_1 = data[data.Y==0].iloc[:,2]\n",
        "\n",
        "    slope = -(theta[0] / theta[2])\n",
        "    intercept = -(theta[1] / theta[2])\n",
        "    x = np.arange(x.shape[0], step=1)\n",
        "    y = slope * x + intercept\n",
        "    plt.scatter(x_0.iloc[:, 0], x_0.iloc[:, 1], marker = 'x')\n",
        "    plt.scatter(x_1.iloc[:, 0], x_1.iloc[:, 1], marker = 'o')\n",
        "    plt.plot(x, y, '-r')\n",
        "    plt.xlabel('feature 1')\n",
        "    plt.ylabel('feature 2')\n",
        "    plt.title('Plotting the data with decision boundary')\n",
        "    plt.show()"
      ],
      "metadata": {
        "id": "GDdHiZoET8ZA"
      },
      "execution_count": 11,
      "outputs": []
    },
    {
      "cell_type": "code",
      "source": [
        "if __name__ == '__main__':\n",
        "\n",
        "    # obtain the data in a dataframe format using 3 sets of lists x1, x2 and y\n",
        "    x1 = [-3.98, -3.464,0-3.461,-2.22, -2.02, -2.01, -1.42, -1.416, -1.09, -0.19, 0.01, 0.03, 0.04, 0.06, 0.07, 0.12, 1.11, 1.411, 1.414, 1.86, 1.96, 2.11, 3.461, 3.464, 4.12]\n",
        "    x2 = [-0.12, -2.11,  1.89, -3.474, 0.03, 3.459, -1.409, 1.419, 0.08, -4.13, 1.02, -2.12, 2.06, 3.97, 0.1, -1.12, 0.09, 1.419, -1.415, 3.47, -0.12, -3.472, -1.87, 2.07, 0.09]\n",
        "    y = [1,1,1,1,0, 1, 0,0,0,1,0,0,0,1,0,0,0,0,0,1,0,1,1,1,1]\n",
        "    data = pd.DataFrame({'X1':x1, 'X2':x2, 'Y':y})\n",
        "    # top 5 observations\n",
        "    print(data.head(5))\n",
        "    # shape of the data\n",
        "    print(data.shape)\n",
        "\n",
        "    # Split data to dependendt and independent variables\n",
        "    x = data.iloc[:,0:2]\n",
        "    y = data.iloc[:,2]\n",
        "\n",
        "    # Convert dependent variable into numpy array\n",
        "    y = y.values\n",
        "\n",
        "    # Convert independent variables into numpy array\n",
        "    x = x.values\n",
        "    \n",
        "\n",
        "    # Plot all points in two different classes first using python matplotlib functions\n",
        "    plt.scatter(x[y==0,0],x[y==0,1],c='r')\n",
        "    plt.scatter(x[y==1,0],x[y==1,1],c='b')\n",
        "    plt.xlabel('feature 1')\n",
        "    plt.ylabel('feature 2')\n",
        "    plt.title('Plotting the data')\n",
        "    plt.show()\n",
        "\n",
        "    # Define learning rate\n",
        "    learning_rate = 0.1\n",
        "\n",
        "    # Define maximum number of iterations\n",
        "    max_itr = 500\n",
        "\n",
        "    # Call gradient descent function\n",
        "    theta,cost_history = gradient_descent(x,y,learning_rate,max_itr)\n",
        "\n",
        "    # Plot cost history\n",
        "    plt.plot(cost_history)\n",
        "    plt.xlabel(\"Iterations\")\n",
        "    plt.ylabel(\"Cost\")\n",
        "    plt.title(\"Cost\")\n",
        "    plt.show()\n",
        "\n",
        "\n",
        "    # Display trained parameters\n",
        "    print(theta)\n",
        "\n",
        "\n",
        "    # Plot decision boundary\n",
        "    plot_decision_boundary(x,y,theta)"
      ],
      "metadata": {
        "colab": {
          "base_uri": "https://localhost:8080/",
          "height": 1000
        },
        "id": "CEFSZu0mUHEF",
        "outputId": "98466121-bab7-4848-e3df-eb5b274d8257"
      },
      "execution_count": 18,
      "outputs": [
        {
          "output_type": "stream",
          "name": "stdout",
          "text": [
            "      X1     X2  Y\n",
            "0 -3.980 -0.120  1\n",
            "1 -3.464 -2.110  1\n",
            "2 -3.461  1.890  1\n",
            "3 -2.220 -3.474  1\n",
            "4 -2.020  0.030  0\n",
            "(25, 3)\n"
          ]
        },
        {
          "output_type": "display_data",
          "data": {
            "text/plain": [
              "<Figure size 432x288 with 1 Axes>"
            ],
            "image/png": "[encoded data removed]"
          },
          "metadata": {
            "needs_background": "light"
          }
        },
        {
          "output_type": "display_data",
          "data": {
            "text/plain": [
              "<Figure size 432x288 with 1 Axes>"
            ],
            "image/png": "[encoded data removed]"
          },
          "metadata": {
            "needs_background": "light"
          }
        },
        {
          "output_type": "stream",
          "name": "stdout",
          "text": [
            "[[ 3.85656919e+00  3.85656919e+00  3.85656919e+00  3.85656919e+00\n",
            "  -3.85656919e+00  3.85656919e+00 -3.85656919e+00 -3.85656919e+00\n",
            "  -3.85656919e+00  3.85656919e+00 -3.85656919e+00 -3.85656919e+00\n",
            "  -3.85656919e+00  3.85656919e+00 -3.85656919e+00 -3.85656919e+00\n",
            "  -3.85656919e+00 -3.85656919e+00 -3.85656919e+00  3.85656919e+00\n",
            "  -3.85656919e+00  3.85656919e+00  3.85656919e+00  3.85656919e+00\n",
            "   3.85656919e+00]\n",
            " [-2.32432041e-04 -2.32432041e-04 -2.32432041e-04 -2.32432041e-04\n",
            "   2.32432041e-04 -2.32432041e-04  2.32432041e-04  2.32432041e-04\n",
            "   2.32432041e-04 -2.32432041e-04  2.32432041e-04  2.32432041e-04\n",
            "   2.32432041e-04 -2.32432041e-04  2.32432041e-04  2.32432041e-04\n",
            "   2.32432041e-04  2.32432041e-04  2.32432041e-04 -2.32432041e-04\n",
            "   2.32432041e-04 -2.32432041e-04 -2.32432041e-04 -2.32432041e-04\n",
            "  -2.32432041e-04]\n",
            " [-1.70541960e-03 -1.70541960e-03 -1.70541960e-03 -1.70541960e-03\n",
            "   1.70541960e-03 -1.70541960e-03  1.70541960e-03  1.70541960e-03\n",
            "   1.70541960e-03 -1.70541960e-03  1.70541960e-03  1.70541960e-03\n",
            "   1.70541960e-03 -1.70541960e-03  1.70541960e-03  1.70541960e-03\n",
            "   1.70541960e-03  1.70541960e-03  1.70541960e-03 -1.70541960e-03\n",
            "   1.70541960e-03 -1.70541960e-03 -1.70541960e-03 -1.70541960e-03\n",
            "  -1.70541960e-03]]\n"
          ]
        },
        {
          "output_type": "display_data",
          "data": {
            "text/plain": [
              "<Figure size 432x288 with 1 Axes>"
            ],
            "image/png": "[encoded data removed]"
          },
          "metadata": {
            "needs_background": "light"
          }
        }
      ]
    }
  ]
}