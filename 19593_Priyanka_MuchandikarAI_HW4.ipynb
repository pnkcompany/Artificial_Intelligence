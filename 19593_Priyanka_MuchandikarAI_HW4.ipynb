{
  "nbformat": 4,
  "nbformat_minor": 0,
  "metadata": {
    "colab": {
      "name": "19593_Priyanka_MuchandikarAI_HW4.ipynb",
      "provenance": [],
      "collapsed_sections": [],
      "authorship_tag": "ABX9TyNqFCuEPxHTkhBUK5hWsP60",
      "include_colab_link": true
    },
    "kernelspec": {
      "name": "python3",
      "display_name": "Python 3"
    },
    "language_info": {
      "name": "python"
    }
  },
  "cells": [
    {
      "cell_type": "markdown",
      "metadata": {
        "id": "view-in-github",
        "colab_type": "text"
      },
      "source": [
        "<a href=\"https://colab.research.google.com/github/pnkcompany/Artificial_Intelligence/blob/main/19593_Priyanka_MuchandikarAI_HW4.ipynb\" target=\"_parent\"><img src=\"https://colab.research.google.com/assets/colab-badge.svg\" alt=\"Open In Colab\"/></a>"
      ]
    },
    {
      "cell_type": "code",
      "execution_count": 103,
      "metadata": {
        "id": "s6A9GyQDpbp5"
      },
      "outputs": [],
      "source": [
        "#!/usr/bin/env python\n",
        "# coding: utf-8\n",
        "\n",
        "# In[1]:\n",
        "\n",
        "\n",
        "import pandas as pd\n",
        "import csv \n",
        "\n",
        "from sklearn.tree import DecisionTreeClassifier\n",
        "import numpy as np\n",
        "from sklearn import tree\n",
        "\n",
        "\n",
        "\n",
        "data = pd.read_csv('DTree_data.csv')\n",
        "data.Profit.replace({'Down': 0, 'Up': 1})\n",
        "data=data.replace(to_replace=\"Down\",value=\"0\")\n",
        "data=data.replace(to_replace=\"Up\",value=\"1\")\n",
        "data['Age'] = data['Age'].replace(['Old','Mid','New'],['0','1','2']);\n",
        "data['Competition'] = data['Competition'].replace(['Yes','No'],['0','1']);\n",
        "data['Type'] = data['Type'].replace(['Software','Hardware'],['0','1']);"
      ]
    },
    {
      "cell_type": "code",
      "source": [
        "\n",
        "\n",
        "x_train=data.iloc[0:10:,0:3]\n",
        "y_train=data.iloc[0:10:,3]\n",
        "x_test=data.iloc[-1:,0:3]\n",
        "\n",
        "clf_tree=DecisionTreeClassifier(random_state=0,max_depth=3)\n",
        "clf_fit=clf_tree.fit(x_train,y_train)\n",
        "\n",
        "predicted=clf_fit.predict(x_test)\n",
        "print('Prediction data: '+predicted)"
      ],
      "metadata": {
        "colab": {
          "base_uri": "https://localhost:8080/"
        },
        "id": "VQ4QTXXtujWL",
        "outputId": "bb9645d4-bc60-4cbf-b365-58bae7ba06c3"
      },
      "execution_count": 104,
      "outputs": [
        {
          "output_type": "stream",
          "name": "stdout",
          "text": [
            "['Prediction data: 1']\n"
          ]
        }
      ]
    }
  ]
}