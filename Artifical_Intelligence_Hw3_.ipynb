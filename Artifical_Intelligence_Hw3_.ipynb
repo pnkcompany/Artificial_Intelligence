{
  "nbformat": 4,
  "nbformat_minor": 0,
  "metadata": {
    "colab": {
      "name": "Artifical_Intelligence_Hw3  .ipynb",
      "provenance": [],
      "collapsed_sections": [],
      "authorship_tag": "ABX9TyMQMHJEsR+n90IduCob2HTd",
      "include_colab_link": true
    },
    "kernelspec": {
      "name": "python3",
      "display_name": "Python 3"
    },
    "language_info": {
      "name": "python"
    }
  },
  "cells": [
    {
      "cell_type": "markdown",
      "metadata": {
        "id": "view-in-github",
        "colab_type": "text"
      },
      "source": [
        "<a href=\"https://colab.research.google.com/github/pnkcompany/Artificial_Intelligence/blob/main/Artifical_Intelligence_Hw3_.ipynb\" target=\"_parent\"><img src=\"https://colab.research.google.com/assets/colab-badge.svg\" alt=\"Open In Colab\"/></a>"
      ]
    },
    {
      "cell_type": "code",
      "execution_count": null,
      "metadata": {
        "id": "PMYkI9Q_Jhgq"
      },
      "outputs": [],
      "source": [
        "import numpy as np\n"
      ]
    },
    {
      "cell_type": "code",
      "source": [
        "\n",
        "def cramer_rule(x, y):\n",
        "# Calculate the determinant of the design matrix\n",
        "det = np.linalg.det(X)\n",
        "# If the determinant is 0, then the matrix is singular\n",
        "if det == 0:\n",
        "print(\"Singular matrix\")\n",
        "return\n",
        "# Inverse of the design matrix\n",
        "inv = np.linalg.inv(X)\n",
        "# Calculate the parameters\n",
        "thetas = np.dot(inv, y)\n",
        "# Print the parameters\n",
        "print(\"The parameters are:\")\n",
        "print(thetas)\n",
        "return thetas\n",
        "# Driver code\n",
        "if __name__ == \"__main__\":\n",
        "# Dataset\n",
        "X = np.array([[1, 4], [1, 5], [1, 16], [1, 21], [1, 36], [1, 45], [1, 64], [1, 77], [1, 100], [1, 117], [1, 144]])\n",
        "y = np.array([[4], [5], [16], [21], [36], [45], [64], [77], [100], [117], [144]])\n",
        "# Find the parameters using Cramer's rule\n",
        "thetas = cramer_rule(X, y)\n",
        "# print the parameters\n",
        "print(\"The parameters are:\")\n",
        "print(thetas)"
      ],
      "metadata": {
        "colab": {
          "base_uri": "https://localhost:8080/",
          "height": 130
        },
        "id": "0Ee8rM4gJsr3",
        "outputId": "d0193f36-8a9e-42e9-c7e5-3742000b4845"
      },
      "execution_count": null,
      "outputs": [
        {
          "output_type": "error",
          "ename": "IndentationError",
          "evalue": "ignored",
          "traceback": [
            "\u001b[0;36m  File \u001b[0;32m\"<ipython-input-9-83ee8951af28>\"\u001b[0;36m, line \u001b[0;32m4\u001b[0m\n\u001b[0;31m    det = np.linalg.det(X)\u001b[0m\n\u001b[0m      ^\u001b[0m\n\u001b[0;31mIndentationError\u001b[0m\u001b[0;31m:\u001b[0m expected an indented block\n"
          ]
        }
      ]
    }
  ]
}