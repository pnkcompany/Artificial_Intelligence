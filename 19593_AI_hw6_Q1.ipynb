{
  "nbformat": 4,
  "nbformat_minor": 0,
  "metadata": {
    "colab": {
      "name": "19593_AI_hw6_Q1.ipynb",
      "provenance": [],
      "collapsed_sections": [],
      "authorship_tag": "ABX9TyNo/DRn47zdqrOGPCPB861o",
      "include_colab_link": true
    },
    "kernelspec": {
      "name": "python3",
      "display_name": "Python 3"
    },
    "language_info": {
      "name": "python"
    }
  },
  "cells": [
    {
      "cell_type": "markdown",
      "metadata": {
        "id": "view-in-github",
        "colab_type": "text"
      },
      "source": [
        "<a href=\"https://colab.research.google.com/github/pnkcompany/Artificial_Intelligence/blob/main/19593_AI_hw6_Q1.ipynb\" target=\"_parent\"><img src=\"https://colab.research.google.com/assets/colab-badge.svg\" alt=\"Open In Colab\"/></a>"
      ]
    },
    {
      "cell_type": "code",
      "execution_count": null,
      "metadata": {
        "colab": {
          "base_uri": "https://localhost:8080/"
        },
        "id": "4zoiS9ue-Az1",
        "outputId": "fc07b7f4-5996-4f5f-a286-b0357be0e4a2"
      },
      "outputs": [
        {
          "output_type": "stream",
          "name": "stdout",
          "text": [
            "Looking in indexes: https://pypi.org/simple, https://us-python.pkg.dev/colab-wheels/public/simple/\n",
            "Requirement already satisfied: hmmlearn in /usr/local/lib/python3.7/dist-packages (0.2.7)\n",
            "Requirement already satisfied: scipy>=0.19 in /usr/local/lib/python3.7/dist-packages (from hmmlearn) (1.7.3)\n",
            "Requirement already satisfied: numpy>=1.10 in /usr/local/lib/python3.7/dist-packages (from hmmlearn) (1.21.6)\n",
            "Requirement already satisfied: scikit-learn>=0.16 in /usr/local/lib/python3.7/dist-packages (from hmmlearn) (1.0.2)\n",
            "Requirement already satisfied: threadpoolctl>=2.0.0 in /usr/local/lib/python3.7/dist-packages (from scikit-learn>=0.16->hmmlearn) (3.1.0)\n",
            "Requirement already satisfied: joblib>=0.11 in /usr/local/lib/python3.7/dist-packages (from scikit-learn>=0.16->hmmlearn) (1.1.0)\n",
            "The likelihood of the seen sequence is :  0.0008294400000000003\n",
            "The sequence of hidden states is:  B1, B1, B3, B2, B3\n"
          ]
        }
      ],
      "source": [
        "!pip install hmmlearn\n",
        "\n",
        "\"\"\"\n",
        "    Given observations, find hidden state sequence by viterbi algorithm\n",
        "\"\"\"\n",
        "\n",
        "import numpy as np\n",
        "from hmmlearn import hmm\n",
        "\n",
        "\n",
        "states = [\"B1\", \"B2\", \"B3\"]\n",
        "\n",
        "n_states = len(states)\n",
        "\n",
        "observations = [\"red\", \"green\", \"yellow\"] \n",
        "\n",
        "n_observations = len(observations)\n",
        "\n",
        "\n",
        "start_probability = np.array([0.4, 0.35, 0.25])\n",
        "\n",
        "transition_probability = np.array([ \n",
        "\n",
        "[0.3, 0.2, 0.5], \n",
        "\n",
        "[0.1, 0.3, 0.6], \n",
        "\n",
        "[0.7, 0.25, 0.05] \n",
        "\n",
        "])\n",
        "\n",
        "emission_probability = np.array([ \n",
        "\n",
        "[0.8, 0.1, 0.1], \n",
        "\n",
        "[0.2, 0.4, 0.4], \n",
        "\n",
        "[0.15, 0.25, 0.6] \n",
        "\n",
        "])\n",
        "\n",
        " \n",
        "model = hmm.MultinomialHMM(n_components=n_states) \n",
        "# MultinomialHMM: observation distribution in Multinomial\n",
        "model.startprob_=start_probability\n",
        "model.transmat_=transition_probability\n",
        "model.emissionprob_=emission_probability\n",
        " \n",
        "\n",
        "seen = np.array([[0,0,2,1,2]]).T \n",
        "\n",
        "logprob, box = model.decode(seen, algorithm=\"viterbi\") \n",
        "\n",
        "print(\"The likelihood Bottles is : \", np.exp(logprob)) \n",
        "\n",
        "print(\"The sequence of transaction of bottle states is: \", \", \".join(map(lambda x: \n",
        "\n",
        "states[x], box)))"
      ]
    },
    {
      "cell_type": "code",
      "source": [
        "\"\"\"\n",
        "    Or find state sequence by \"predict\" function \n",
        "\"\"\"\n",
        "seen = np.array([[0,0,2,1,2]]).T \n",
        "box2 = model.predict(seen)      # same as \"viterbi\"\n",
        "seen = [0,0,2,1,2]\n",
        "print(\"Bottles seen sequence is:\", \", \".join(map(lambda x: observations[x], seen)))\n",
        "print(\"The sequence of transaction of bottle states:\", \", \".join(map(lambda x: states[x], box2)))\n"
      ],
      "metadata": {
        "colab": {
          "base_uri": "https://localhost:8080/"
        },
        "id": "Lu_Qn0Glj5JZ",
        "outputId": "3915f281-5f3e-4b3e-8077-f84508024bcc"
      },
      "execution_count": null,
      "outputs": [
        {
          "output_type": "stream",
          "name": "stdout",
          "text": [
            "The likelihood Bottles is seen sequence is: red, red, yellow, green, yellow\n",
            "The sequence of transaction of bottle states: B1, B1, B3, B2, B3\n"
          ]
        }
      ]
    },
    {
      "cell_type": "code",
      "source": [
        "\"\"\"\n",
        "    Find probability of observation sequence\n",
        "\"\"\"\n",
        "seen = np.array([[0,0,2,1,2]]).T                   # P(rrygy) =?\n",
        "print(model.score(seen))\n",
        "# ln(P(red*white*red)) = -2.038545309915233   # P(rwr) = exp(-2.038545309915233)"
      ],
      "metadata": {
        "colab": {
          "base_uri": "https://localhost:8080/"
        },
        "id": "cc3zEagQk0r0",
        "outputId": "2e795526-955d-4537-861c-31e06a025c86"
      },
      "execution_count": null,
      "outputs": [
        {
          "output_type": "stream",
          "name": "stdout",
          "text": [
            "-5.342304036552551\n"
          ]
        }
      ]
    }
  ]
}