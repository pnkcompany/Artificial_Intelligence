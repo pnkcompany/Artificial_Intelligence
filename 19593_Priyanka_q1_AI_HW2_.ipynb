{
  "nbformat": 4,
  "nbformat_minor": 0,
  "metadata": {
    "colab": {
      "name": "19593_Priyanka_q1_AI_HW2_.ipynb",
      "provenance": [],
      "authorship_tag": "ABX9TyNsA07hlq6i/p8pLuJrIti1",
      "include_colab_link": true
    },
    "kernelspec": {
      "name": "python3",
      "display_name": "Python 3"
    },
    "language_info": {
      "name": "python"
    }
  },
  "cells": [
    {
      "cell_type": "markdown",
      "metadata": {
        "id": "view-in-github",
        "colab_type": "text"
      },
      "source": [
        "<a href=\"https://colab.research.google.com/github/pnkcompany/Artificial_Intelligence/blob/main/19593_Priyanka_q1_AI_HW2_.ipynb\" target=\"_parent\"><img src=\"https://colab.research.google.com/assets/colab-badge.svg\" alt=\"Open In Colab\"/></a>"
      ]
    },
    {
      "cell_type": "code",
      "execution_count": 4,
      "metadata": {
        "id": "7RESwShGxqSF"
      },
      "outputs": [],
      "source": [
        "import pandas as pd\n",
        "import numpy as np\n",
        "import matplotlib.pyplot as plt\n",
        "import seaborn as sns"
      ]
    },
    {
      "cell_type": "code",
      "source": [
        "x = [1,3,5,7,9,11,13,15,17,19,100]\n",
        "y = [3,3,7,7,11,11,15,15,19,19,]\n",
        "\n",
        "data = pd.DataFrame({\"x\": x, \"y\": y}) #creating the table \n",
        "\n",
        "x_bar = data[\"x\"].mean()  #computing X_bar which is the mean \n",
        "y_bar = data[\"y\"].mean()  #computing Y_bar which is the mean \n",
        "\n",
        "#Converting thera 1 formula to Python code\n",
        "theta_1 = ((data[\"x\"] -x_bar) * (data[\"y\"] - y_bar)).sum() / ((data[\"x\"] - x_bar)**2).sum()\n",
        "\n",
        "#Now computing theta 0\n",
        "theta_0 = y_bar - theta_1 * x_bar\n",
        "\n",
        "#Showing the values of theta 0 and theta 1\n",
        "theta_0, theta_1"
      ],
      "metadata": {
        "colab": {
          "base_uri": "https://localhost:8080/"
        },
        "id": "HEBcs6UVx8uH",
        "outputId": "4930a3ba-b23e-40b1-8833-70b20b56d063"
      },
      "execution_count": 7,
      "outputs": [
        {
          "output_type": "execute_result",
          "data": {
            "text/plain": [
              "(1.3030303030303028, 0.9696969696969697)"
            ]
          },
          "metadata": {},
          "execution_count": 7
        }
      ]
    },
    {
      "cell_type": "code",
      "source": [
        "sns.regplot(x,y)\n",
        "plt.xlabel(\"x\")\n",
        "plt.ylabel(\"Y\")\n",
        "plt.title(\"The equation of linear regression\")"
      ],
      "metadata": {
        "colab": {
          "base_uri": "https://localhost:8080/",
          "height": 370
        },
        "id": "GA1dr0U_yFcD",
        "outputId": "f9a2d961-381c-4eeb-bcef-3d97b10e9a09"
      },
      "execution_count": 8,
      "outputs": [
        {
          "output_type": "stream",
          "name": "stderr",
          "text": [
            "/usr/local/lib/python3.7/dist-packages/seaborn/_decorators.py:43: FutureWarning: Pass the following variables as keyword args: x, y. From version 0.12, the only valid positional argument will be `data`, and passing other arguments without an explicit keyword will result in an error or misinterpretation.\n",
            "  FutureWarning\n"
          ]
        },
        {
          "output_type": "execute_result",
          "data": {
            "text/plain": [
              "Text(0.5, 1.0, 'The equation of linear regression')"
            ]
          },
          "metadata": {},
          "execution_count": 8
        },
        {
          "output_type": "display_data",
          "data": {
            "text/plain": [
              "<Figure size 432x288 with 1 Axes>"
            ],
            "image/png": "[encoded data removed]"
          },
          "metadata": {
            "needs_background": "light"
          }
        }
      ]
    }
  ]
}