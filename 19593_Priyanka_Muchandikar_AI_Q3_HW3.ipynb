{
  "nbformat": 4,
  "nbformat_minor": 0,
  "metadata": {
    "colab": {
      "name": "19593_Priyanka_Muchandikar_AI_Q3_HW3.ipynb",
      "provenance": [],
      "collapsed_sections": [],
      "authorship_tag": "ABX9TyN9PPuzYfzf0+/cTh4MLUrj",
      "include_colab_link": true
    },
    "kernelspec": {
      "name": "python3",
      "display_name": "Python 3"
    },
    "language_info": {
      "name": "python"
    }
  },
  "cells": [
    {
      "cell_type": "markdown",
      "metadata": {
        "id": "view-in-github",
        "colab_type": "text"
      },
      "source": [
        "<a href=\"https://colab.research.google.com/github/pnkcompany/Artificial_Intelligence/blob/main/19593_Priyanka_Muchandikar_AI_Q3_HW3.ipynb\" target=\"_parent\"><img src=\"https://colab.research.google.com/assets/colab-badge.svg\" alt=\"Open In Colab\"/></a>"
      ]
    },
    {
      "cell_type": "code",
      "execution_count": null,
      "metadata": {
        "id": "9Q4-SbS9TbFe"
      },
      "outputs": [],
      "source": [
        "# Importing important modules\n",
        "from sklearn.cluster import KMeans\n",
        "import matplotlib.pyplot as plt\n",
        "import pandas as pd\n",
        "from sklearn.datasets import make_blobs\n",
        "#from sklearn.datasets.samples_generator import make_blobs\n",
        "from sklearn.cluster import KMeans"
      ]
    },
    {
      "cell_type": "code",
      "source": [
        "# Reading CSV data\n",
        "data = pd.read_csv(\"clusture.csv\",index_col=0)\n",
        "# displaying data\n",
        "print(\"Data:\")\n",
        "print(data)\n",
        "\n",
        "# Calculating WCSS for k 1 to 5\n",
        "# defining empty list wcss\n",
        "wcss = []\n",
        "# looping for k range 1 to 5\n",
        "for k in range(1,6):\n",
        "    # defining KMeans model with cluster K\n",
        "    kmeans = KMeans(n_clusters = k, random_state = 0)\n",
        "    # fiting data on defined model\n",
        "    kmeans.fit(data)\n",
        "# fetching wcss from fitted model and appending in wcss list\n",
        "    wcss.append(kmeans.inertia_)\n",
        "\n",
        "# Ploting curve on wcss and K\n",
        "plt.plot(range(1,6), wcss)\n",
        "plt.title('The elbow method')\n",
        "plt.xlabel('The number of clusters')\n",
        "plt.ylabel('WCSS')\n",
        "plt.show()\n",
        "\n",
        "# Displaying observational K\n",
        "print()\n",
        "print(\"Elbow is at 2, Hence best value of k is 2.\")\n",
        "\n",
        " "
      ],
      "metadata": {
        "colab": {
          "base_uri": "https://localhost:8080/",
          "height": 514
        },
        "id": "TUE82FgTTuTF",
        "outputId": "67d89283-c295-4d93-84ca-f5bf937b8e72"
      },
      "execution_count": null,
      "outputs": [
        {
          "output_type": "stream",
          "name": "stdout",
          "text": [
            "Data:\n",
            "      1  4  1.1\n",
            "OB-1           \n",
            "OB-2  1  2    2\n",
            "OB-3  1  4    2\n",
            "OB-4  2  1    2\n",
            "OB-5  1  1    1\n",
            "OB-6  2  4    2\n",
            "OB-7  1  1    2\n",
            "OB-8  2  1    1\n"
          ]
        },
        {
          "output_type": "display_data",
          "data": {
            "text/plain": [
              "<Figure size 432x288 with 1 Axes>"
            ],
            "image/png": "[encoded data removed]"
          },
          "metadata": {
            "needs_background": "light"
          }
        },
        {
          "output_type": "stream",
          "name": "stdout",
          "text": [
            "\n",
            "Elbow is at 2, Hence best value of k is 2.\n"
          ]
        }
      ]
    }
  ]
}