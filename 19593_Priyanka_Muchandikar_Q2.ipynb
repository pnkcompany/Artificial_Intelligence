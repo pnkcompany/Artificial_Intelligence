{
  "nbformat": 4,
  "nbformat_minor": 0,
  "metadata": {
    "colab": {
      "name": "19593_Priyanka_Muchandikar_Q2.ipynb",
      "provenance": [],
      "collapsed_sections": [],
      "authorship_tag": "ABX9TyNy8Rc+kvgKF1jlv0vQHEVk",
      "include_colab_link": true
    },
    "kernelspec": {
      "name": "python3",
      "display_name": "Python 3"
    },
    "language_info": {
      "name": "python"
    }
  },
  "cells": [
    {
      "cell_type": "markdown",
      "metadata": {
        "id": "view-in-github",
        "colab_type": "text"
      },
      "source": [
        "<a href=\"https://colab.research.google.com/github/pnkcompany/Artificial_Intelligence/blob/main/19593_Priyanka_Muchandikar_Q2.ipynb\" target=\"_parent\"><img src=\"https://colab.research.google.com/assets/colab-badge.svg\" alt=\"Open In Colab\"/></a>"
      ]
    },
    {
      "cell_type": "code",
      "execution_count": null,
      "metadata": {
        "id": "NAI70bwuXgbx"
      },
      "outputs": [],
      "source": [
        "#Making the imports\n",
        "import numpy as np\n",
        "import pandas as pds\n",
        "import matplotlib.pyplot as pltot\n"
      ]
    },
    {
      "cell_type": "markdown",
      "source": [
        ""
      ],
      "metadata": {
        "id": "9TOh3eXyhFBJ"
      }
    },
    {
      "cell_type": "code",
      "source": [
        ""
      ],
      "metadata": {
        "id": "zo5_u20JhFSA"
      },
      "execution_count": null,
      "outputs": []
    },
    {
      "cell_type": "code",
      "source": [
        "#getting input data\n",
        "data = pds.read_csv('data.csv')\n",
        "x = data.iloc[:,0]\n",
        "y = data.iloc[:,1]"
      ],
      "metadata": {
        "id": "mBdVZR2fYwVB"
      },
      "execution_count": null,
      "outputs": []
    },
    {
      "cell_type": "markdown",
      "source": [
        ""
      ],
      "metadata": {
        "id": "bwX22aw4ZzWM"
      }
    },
    {
      "cell_type": "code",
      "source": [
        ""
      ],
      "metadata": {
        "id": "zQKsDDJCiLkL"
      },
      "execution_count": null,
      "outputs": []
    },
    {
      "cell_type": "markdown",
      "source": [
        ""
      ],
      "metadata": {
        "id": "hJzPWKR_iMjc"
      }
    },
    {
      "cell_type": "code",
      "source": [
        ""
      ],
      "metadata": {
        "id": "pd9aDxJsiM31"
      },
      "execution_count": null,
      "outputs": []
    },
    {
      "cell_type": "code",
      "source": [
        ""
      ],
      "metadata": {
        "id": "03XFQzFIiM5R"
      },
      "execution_count": null,
      "outputs": []
    },
    {
      "cell_type": "code",
      "source": [
        "# model\n",
        "m = 0\n",
        "c = 0\n",
        "L = 0.002\n",
        "epochs = 100\n",
        "n = len(x)\n",
        "for i in range(n):\n",
        "  Yp = m * x + c\n",
        "  Dm = (-2/n) * sum(x * (y - Yp))\n",
        "  Dc = (-2/n) * sum(y - Yp)\n",
        "  m = m - L*Dm  \n",
        "  c = c - L*Dc\n",
        "\n",
        "  print(m, c)"
      ],
      "metadata": {
        "colab": {
          "base_uri": "https://localhost:8080/"
        },
        "id": "h9DCVQxcZ0Qi",
        "outputId": "03c70edf-345c-4232-9c1b-bc2a1c48c794"
      },
      "execution_count": null,
      "outputs": [
        {
          "output_type": "stream",
          "name": "stdout",
          "text": [
            "1.7036363636363638 0.22872727272727272\n",
            "3.1641890909090913 0.4224669090909091\n",
            "4.416389643636364 0.5862205323636364\n",
            "5.490007046516364 0.7242751300887272\n",
            "6.410556921038662 0.8403051613653177\n",
            "7.199909212502306 0.937460075026356\n",
            "7.87680908488782 1.0184393232034772\n",
            "8.45732339017582 1.0855566569401796\n",
            "8.955223346048765 1.1407952352361752\n",
            "9.382312536533577 1.185854860101528\n",
            "9.74870804785321 1.222192462657723\n"
          ]
        }
      ]
    },
    {
      "cell_type": "code",
      "source": [
        "# Making predictions\n",
        "Yp = m*x + c\n",
        "pltot.scatter(x,y)\n",
        "pltot.scatter(x,Yp)\n",
        "pltot.show()\n"
      ],
      "metadata": {
        "colab": {
          "base_uri": "https://localhost:8080/",
          "height": 265
        },
        "id": "QhaqTb16Z0Ru",
        "outputId": "b9961e1a-550b-479a-ce72-a0942f526bc6"
      },
      "execution_count": null,
      "outputs": [
        {
          "output_type": "display_data",
          "data": {
            "text/plain": [
              "<Figure size 432x288 with 1 Axes>"
            ],
            "image/png": "[encoded data removed]"
          },
          "metadata": {
            "needs_background": "light"
          }
        }
      ]
    },
    {
      "cell_type": "code",
      "source": [
        ""
      ],
      "metadata": {
        "id": "2pL9gII5Z0Sx"
      },
      "execution_count": null,
      "outputs": []
    },
    {
      "cell_type": "code",
      "source": [
        ""
      ],
      "metadata": {
        "id": "igxOSvxcZ0T6"
      },
      "execution_count": null,
      "outputs": []
    },
    {
      "cell_type": "code",
      "source": [
        "pltot.scatter(x,y)\n",
        "pltot.show()"
      ],
      "metadata": {
        "colab": {
          "base_uri": "https://localhost:8080/",
          "height": 265
        },
        "id": "mlOaqtMMZTvo",
        "outputId": "2408d0ef-ba95-4027-f33c-a9ded8c042c2"
      },
      "execution_count": null,
      "outputs": [
        {
          "output_type": "display_data",
          "data": {
            "text/plain": [
              "<Figure size 432x288 with 1 Axes>"
            ],
            "image/png": "[encoded data removed]"
          },
          "metadata": {
            "needs_background": "light"
          }
        }
      ]
    },
    {
      "cell_type": "code",
      "source": [
        ""
      ],
      "metadata": {
        "id": "BCpnONuNZUgp"
      },
      "execution_count": null,
      "outputs": []
    },
    {
      "cell_type": "code",
      "source": [
        ""
      ],
      "metadata": {
        "id": "WDpL-YItmAob"
      },
      "execution_count": null,
      "outputs": []
    },
    {
      "cell_type": "code",
      "source": [
        ""
      ],
      "metadata": {
        "id": "dbiuuhdYmAxj"
      },
      "execution_count": null,
      "outputs": []
    }
  ]
}