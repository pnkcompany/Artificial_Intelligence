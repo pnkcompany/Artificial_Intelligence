{
  "nbformat": 4,
  "nbformat_minor": 0,
  "metadata": {
    "colab": {
      "name": "19593_Final4.ipynb",
      "provenance": [],
      "collapsed_sections": [],
      "authorship_tag": "ABX9TyO3IfnqZXqf/GkDnbolhieG",
      "include_colab_link": true
    },
    "kernelspec": {
      "name": "python3",
      "display_name": "Python 3"
    },
    "language_info": {
      "name": "python"
    }
  },
  "cells": [
    {
      "cell_type": "markdown",
      "metadata": {
        "id": "view-in-github",
        "colab_type": "text"
      },
      "source": [
        "<a href=\"https://colab.research.google.com/github/pnkcompany/Artificial_Intelligence/blob/main/19593_Final4.ipynb\" target=\"_parent\"><img src=\"https://colab.research.google.com/assets/colab-badge.svg\" alt=\"Open In Colab\"/></a>"
      ]
    },
    {
      "cell_type": "code",
      "execution_count": null,
      "metadata": {
        "colab": {
          "base_uri": "https://localhost:8080/"
        },
        "id": "FVBzUSj9JBtO",
        "outputId": "b57251b1-2423-4e88-f5c2-92bd381979d6"
      },
      "outputs": [
        {
          "output_type": "stream",
          "name": "stdout",
          "text": [
            "2\n"
          ]
        }
      ],
      "source": [
        "import numpy as np\n",
        "import pandas as pd\n",
        "from random import seed\n",
        "from random import random\n",
        "import matplotlib.pyplot as plt\n",
        "\n",
        "P = np.array([[0.10, 0.70, 0.20],\n",
        "              [0.75, 0.15, 0.10],\n",
        "              [0.60, 0.35, 0.05]])\n",
        "stateChangeHist= np.array([[0.0,  0.0,  0.0],\n",
        "                          [0.0, 0.0,  0.0],\n",
        "                          [0.0, 0.0,  0.0]])\n",
        "\n",
        "probs=np.array([0.1, 0.6, 0.3])\n",
        "s = np.random.choice(3, 1, p=probs)[0]\n",
        "print(s)\n"
      ]
    },
    {
      "cell_type": "code",
      "source": [
        "numSteps = 100000\n",
        "currState = 0   # start at state 0\n",
        "locations = np.zeros(numSteps, dtype = np.int64)  # we will store the visited locations here\n",
        "\n",
        "for i in range(numSteps):\n",
        "  locations[i] = currState   # store the current state\n",
        "  probs = P[:,currState]     # get the probabilities for the next transition\n",
        "  probs /= probs.sum()\n",
        "  currState = np.random.choice(3, 1, p=probs)[0]  # find the next state\n",
        "\n",
        "# compute the relative frequencies of each state\n",
        "np.bincount(locations)/numSteps"
      ],
      "metadata": {
        "colab": {
          "base_uri": "https://localhost:8080/"
        },
        "id": "rI9aFglHLrdy",
        "outputId": "e379fe1f-ca71-4d18-804a-72aaf3912029"
      },
      "execution_count": null,
      "outputs": [
        {
          "output_type": "execute_result",
          "data": {
            "text/plain": [
              "array([0.38352, 0.32252, 0.29396])"
            ]
          },
          "metadata": {},
          "execution_count": 18
        }
      ]
    },
    {
      "cell_type": "code",
      "source": [
        "probs = P[:,0]\n",
        "probs\n",
        "nextprobs = P @ probs\n",
        "nextprobs\n",
        "\n",
        "probs = P[:,0]\n",
        "for i in range(100):\n",
        "  probs = P @ probs\n",
        "probs\n",
        "\n",
        "np.linalg.matrix_power(P,100)\n",
        "eigenStuff = np.linalg.eig(P)\n",
        "eigenStuff\n",
        "eigenStuff[0]\n",
        "\n",
        "eigenStuff[1]\n",
        "\n",
        "eigVec1 = eigenStuff[1][:,1]\n",
        "eigVec1\n",
        "\n",
        "eigVec1/np.sum(eigVec1)"
      ],
      "metadata": {
        "colab": {
          "base_uri": "https://localhost:8080/"
        },
        "id": "QRt-I9AIMe7K",
        "outputId": "a074b4c5-6406-4cfd-903c-64ba8a669a84"
      },
      "execution_count": null,
      "outputs": [
        {
          "output_type": "execute_result",
          "data": {
            "text/plain": [
              "array([-3.61432606e+15,  2.39341395e+15,  1.22091211e+15])"
            ]
          },
          "metadata": {},
          "execution_count": 21
        }
      ]
    }
  ]
}