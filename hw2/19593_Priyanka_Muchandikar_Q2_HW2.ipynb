{
  "nbformat": 4,
  "nbformat_minor": 0,
  "metadata": {
    "colab": {
      "name": "19593_Priyanka_Muchandikar_Q2_HW2.ipynb",
      "provenance": [],
      "collapsed_sections": [],
      "authorship_tag": "ABX9TyOSIox+ViVzqZqBB8Z1ahHF",
      "include_colab_link": true
    },
    "kernelspec": {
      "name": "python3",
      "display_name": "Python 3"
    },
    "language_info": {
      "name": "python"
    }
  },
  "cells": [
    {
      "cell_type": "markdown",
      "metadata": {
        "id": "view-in-github",
        "colab_type": "text"
      },
      "source": [
        "<a href=\"https://colab.research.google.com/github/pnkcompany/Artificial_Intelligence/blob/main/hw2/19593_Priyanka_Muchandikar_Q2_HW2.ipynb\" target=\"_parent\"><img src=\"https://colab.research.google.com/assets/colab-badge.svg\" alt=\"Open In Colab\"/></a>"
      ]
    },
    {
      "cell_type": "code",
      "execution_count": 31,
      "metadata": {
        "id": "ZExiTlEjtEU1"
      },
      "outputs": [],
      "source": [
        "import pandas as pd\n",
        "import numpy as np\n",
        "import matplotlib.pyplot as plt\n",
        "import seaborn as sns\n",
        "from mlxtend.plotting import plot_decision_regions\n",
        "from sklearn import tree"
      ]
    },
    {
      "cell_type": "code",
      "source": [
        "# Build up hypothesis function/loss function/cost function based on your selected   decision function\n",
        "\n",
        "# Define sigmoid function\n",
        "def sigmoid(z):\n",
        "    return 1/(1+np.exp(-z))\n",
        "\n",
        "\n",
        "def loss(y, y_hat):\n",
        "    loss = -np.mean(y*(np.log(y_hat)) - (1-y)*np.log(1-y_hat))\n",
        "    return loss\n",
        "\n",
        "# Define gradient descent function\n",
        "def gradients(X, y, y_hat):\n",
        "    \n",
        "    # X --> Input.\n",
        "    # y --> true/target value.\n",
        "    # y_hat --> hypothesis/predictions.\n",
        "    # w --> weights (parameter).\n",
        "    # b --> bias (parameter).\n",
        "    \n",
        "    # m-> number of training examples.\n",
        "    m = X.shape[0]\n",
        "    \n",
        "    # Gradient of loss w.r.t weights.\n",
        "    dw = (1/m)*np.dot(X.T, (y_hat - y))\n",
        "    \n",
        "    # Gradient of loss w.r.t bias.\n",
        "    db = (1/m)*np.sum((y_hat - y)) \n",
        "    \n",
        "    return dw, db\n",
        "\n",
        "def normalize(X):\n",
        "    # X --> Input.\n",
        "    \n",
        "    # m-> number of training examples\n",
        "    # n-> number of features \n",
        "    m, n = X.shape\n",
        "    \n",
        "    # Normalizing all the n features of X.\n",
        "    for i in range(n):\n",
        "        X = (X - X.mean(axis=0))/X.std(axis=0)\n",
        "        \n",
        "    return X\n",
        "\n",
        "def plot_decision_boundary(X, w, b):\n",
        "  X_combined = np.vstack((X,  test_data[['X1','X2']]))\n",
        "  y_combined = np.hstack((y, t['Y']))\n",
        "  \n",
        "  fig, ax = plt.subplots(figsize=(7, 7))\n",
        "  plot_decision_regions(X_combined, y_combined, clf=classifier_dt)\n",
        "  plt.xlabel('X2')\n",
        "  plt.ylabel('X1')\n",
        "  plt.legend(loc='upper left')\n",
        "  plt.tight_layout()\n",
        "  plt.show()\n",
        "\n",
        "\n",
        "def train(X, y, bs, epochs, lr):\n",
        "    X= X.values\n",
        "    y = y.values\n",
        "    # X --> Input.\n",
        "    # y --> true/target value.\n",
        "    # bs --> Batch Size.\n",
        "    # epochs --> Number of iterations.\n",
        "    # lr --> Learning rate.\n",
        "        \n",
        "    # m-> number of training examples\n",
        "    # n-> number of features \n",
        "    m, n = X.shape\n",
        "    \n",
        "    # Initializing weights and bias to zeros.\n",
        "    w = np.zeros((n,1))\n",
        "    b = 0\n",
        "    \n",
        "    # Reshaping y.\n",
        "    y = y.reshape(m,1)\n",
        "    \n",
        "    # Normalizing the inputs.\n",
        "    x = normalize(X)\n",
        "    \n",
        "    # Empty list to store losses.\n",
        "    losses = []\n",
        "    \n",
        "    # Training loop.\n",
        "    for epoch in range(epochs):\n",
        "        for i in range((m-1)//bs + 1):\n",
        "            \n",
        "            # Defining batches. SGD.\n",
        "            start_i = i*bs\n",
        "            end_i = start_i + bs\n",
        "            xb = X[start_i:end_i]\n",
        "            yb = y[start_i:end_i]\n",
        "            \n",
        "            # Calculating hypothesis/prediction.\n",
        "            y_hat = sigmoid(np.dot(xb, w) + b)\n",
        "            \n",
        "            # Getting the gradients of loss w.r.t parameters.\n",
        "            dw, db = gradients(xb, yb, y_hat)\n",
        "            \n",
        "            # Updating the parameters.\n",
        "            w -= lr*dw\n",
        "            b -= lr*db\n",
        "        \n",
        "        # Calculating loss and appending it in the list.\n",
        "        l = loss(y, sigmoid(np.dot(X, w) + b))\n",
        "        losses.append(l)\n",
        "        \n",
        "    # returning weights, bias and losses(List).\n",
        "    return w, b, losses\n",
        "\n",
        "def predict(X):\n",
        "    X=X.values\n",
        "    # X --> Input.\n",
        "    \n",
        "    # Normalizing the inputs.\n",
        "    x = normalize(X)\n",
        "    \n",
        "    # Calculating presictions/y_hat.\n",
        "    preds = sigmoid(np.dot(X, w) + b)\n",
        "    \n",
        "    # Empty List to store predictions.\n",
        "    pred_class = []\n",
        "    # if y_hat >= 0.5 --> round up to 1\n",
        "    # if y_hat < 0.5 --> round up to 1\n",
        "    pred_class = [1 if i > 0.5 else 0 for i in preds]\n",
        "    \n",
        "    pred_class = [4 if i > 0 else 2 for i in pred_class]\n",
        "    \n",
        "    return np.array(pred_class)\n",
        "\n",
        "\n",
        "\n"
      ],
      "metadata": {
        "id": "kdslsXYNzLz4"
      },
      "execution_count": 54,
      "outputs": []
    },
    {
      "cell_type": "code",
      "source": [
        "if __name__ == '__main__':\n",
        "  #importing our cancer dataset\n",
        "  df = pd.read_csv('data2.csv')\n",
        "  #prepocess data\n",
        "  for i in df.columns:\n",
        "    df.loc[df[i]=='?',i]=np.nan\n",
        "  \n",
        "  X = df.iloc[:, 0:9].values\n",
        "  Y = df.iloc[:, 9].values\n",
        "\n",
        "  #splitting into train and test\n",
        "  test_data = df[-2:]\n",
        "\n",
        "  train_data = df[:-2]\n",
        "\n",
        "  X_train = train_data[['X1','X2','X3','X4','X5','X6','X7','X8','X9']]\n",
        "  y_train = train_data['Y'].astype('int')\n",
        "  # Training \n",
        "  w, b, l = train(X_train, y_train, bs=100, epochs=1000, lr=0.01)\n",
        "  \n",
        "  X_test = test_data[['X1','X2','X3','X4','X5','X6','X7','X8','X9']]\n",
        "  data = predict(X_test)\n",
        "\n",
        "  print(data)"
      ],
      "metadata": {
        "colab": {
          "base_uri": "https://localhost:8080/"
        },
        "id": "4BAitmqn8omN",
        "outputId": "37839e89-9d75-4bab-fb00-4671f2855ebb"
      },
      "execution_count": 55,
      "outputs": [
        {
          "output_type": "stream",
          "name": "stdout",
          "text": [
            "[4 4]\n"
          ]
        },
        {
          "output_type": "stream",
          "name": "stderr",
          "text": [
            "/usr/local/lib/python3.7/dist-packages/ipykernel_launcher.py:9: RuntimeWarning: divide by zero encountered in log\n",
            "  if __name__ == '__main__':\n",
            "/usr/local/lib/python3.7/dist-packages/ipykernel_launcher.py:41: RuntimeWarning: invalid value encountered in true_divide\n"
          ]
        }
      ]
    }
  ]
}