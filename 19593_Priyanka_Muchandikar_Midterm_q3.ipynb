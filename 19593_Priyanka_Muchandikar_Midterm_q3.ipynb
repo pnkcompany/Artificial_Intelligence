{
  "nbformat": 4,
  "nbformat_minor": 0,
  "metadata": {
    "colab": {
      "name": "19593_Priyanka_Muchandikar_Midterm_q3.ipynb",
      "provenance": [],
      "authorship_tag": "ABX9TyM2/Zntz2vjRQVHYQGa/ESf",
      "include_colab_link": true
    },
    "kernelspec": {
      "name": "python3",
      "display_name": "Python 3"
    },
    "language_info": {
      "name": "python"
    }
  },
  "cells": [
    {
      "cell_type": "markdown",
      "metadata": {
        "id": "view-in-github",
        "colab_type": "text"
      },
      "source": [
        "<a href=\"https://colab.research.google.com/github/pnkcompany/Artificial_Intelligence/blob/main/19593_Priyanka_Muchandikar_Midterm_q3.ipynb\" target=\"_parent\"><img src=\"https://colab.research.google.com/assets/colab-badge.svg\" alt=\"Open In Colab\"/></a>"
      ]
    },
    {
      "cell_type": "code",
      "execution_count": 2,
      "metadata": {
        "id": "vtGtdDMyknxm"
      },
      "outputs": [],
      "source": [
        "import numpy as np\n",
        "import pandas as pd\n",
        "df = pd.read_csv('q3.csv', header = 0)\n",
        "df.head()\n",
        "\n",
        "theta = [0,0]"
      ]
    },
    {
      "cell_type": "code",
      "source": [
        "def hypothesis(theta, X):\n",
        "    return theta[0] + theta[1]*X\n",
        "\n",
        "def cost_calc(theta, X, y):\n",
        "    return (1/2*m) * np.sum((hypothesis(theta, X) - y)**2)"
      ],
      "metadata": {
        "id": "0vB-9xdslP0Z"
      },
      "execution_count": 3,
      "outputs": []
    },
    {
      "cell_type": "code",
      "source": [
        "m = len(df)\n",
        "def gradient_descent(theta, X, y, epoch, alpha):\n",
        "    cost = []\n",
        "    i = 0\n",
        "    while i < epoch:\n",
        "        hx = hypothesis(theta, X)\n",
        "        theta[0] -= alpha*(sum(hx-y)/m)\n",
        "        theta[1] -= (alpha * np.sum((hx - y) * X))/m\n",
        "        cost.append(cost_calc(theta, X, y))\n",
        "        i += 1\n",
        "    return theta, cost"
      ],
      "metadata": {
        "id": "dElAPSoRlS4j"
      },
      "execution_count": 4,
      "outputs": []
    },
    {
      "cell_type": "code",
      "source": [
        "def predict(theta, X, y, epoch, alpha):\n",
        "    theta, cost = gradient_descent(theta, X, y, epoch, alpha)\n",
        "    return hypothesis(theta, X), cost, theta"
      ],
      "metadata": {
        "id": "d7d5AiSAlWJv"
      },
      "execution_count": 5,
      "outputs": []
    },
    {
      "cell_type": "code",
      "source": [
        "y_predict, cost, theta = predict(theta, df['X'].values, df['y'].values, 2000, 0.01)"
      ],
      "metadata": {
        "id": "iwsCSCK-lYkm"
      },
      "execution_count": 6,
      "outputs": []
    },
    {
      "cell_type": "code",
      "source": [
        "theta"
      ],
      "metadata": {
        "colab": {
          "base_uri": "https://localhost:8080/"
        },
        "id": "LvniSPNalbKM",
        "outputId": "06cef5fa-4363-4f29-c70d-2f7f3878379c"
      },
      "execution_count": 7,
      "outputs": [
        {
          "output_type": "execute_result",
          "data": {
            "text/plain": [
              "[3.861950172064149, 2.746953776217164]"
            ]
          },
          "metadata": {},
          "execution_count": 7
        }
      ]
    }
  ]
}